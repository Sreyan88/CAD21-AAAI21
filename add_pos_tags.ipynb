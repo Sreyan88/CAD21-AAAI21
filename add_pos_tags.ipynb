{
 "cells": [
  {
   "cell_type": "markdown",
   "metadata": {},
   "source": [
    "## Adding POS to data"
   ]
  },
  {
   "cell_type": "code",
   "execution_count": 1,
   "metadata": {},
   "outputs": [],
   "source": [
    "def read_lines( filename):\n",
    "    with open(filename, 'r',encoding=\"utf-8\") as fp:\n",
    "        lines = [line.strip() for line in fp]\n",
    "    return lines\n",
    "def read_data(filename):\n",
    "    \"\"\"\n",
    "    This function reads the data from .txt file.\n",
    "    :param filename: reading directory\n",
    "    :return: lists of word_ids, words, emphasis probabilities\n",
    "    \"\"\"\n",
    "    lines = read_lines(filename) + ['']\n",
    "    word_id_lst, word_id_lsts =[], []\n",
    "    post_lst, post_lsts = [], []\n",
    "    bio_lst , bio_lsts = [], []\n",
    "    freq_lst, freq_lsts = [], []\n",
    "    e_freq_lst, e_freq_lsts = [], []\n",
    "#     pos_tag,pos_tags = [], []\n",
    "    \n",
    "    for line in lines:\n",
    "        if line:\n",
    "            splitted = line.split(\"\\t\")\n",
    "            word_id = splitted[0]\n",
    "            words = splitted[1]\n",
    "            bio= splitted[2]\n",
    "            freq = splitted[3]\n",
    "            e_freq = splitted[4]\n",
    "#             pos = splitted[5]\n",
    "            word_id_lst.append(word_id)\n",
    "            post_lst.append(words)\n",
    "            bio_lst.append(bio)\n",
    "            freq_lst.append(freq)\n",
    "            e_freq_lst.append(e_freq)\n",
    "#             pos_tag.append(pos)\n",
    "        elif post_lst:\n",
    "            word_id_lsts.append(word_id_lst)\n",
    "            post_lsts.append(post_lst)\n",
    "            bio_lsts.append(bio_lst)\n",
    "            freq_lsts.append(freq_lst)\n",
    "            e_freq_lsts.append(e_freq_lst)\n",
    "#             pos_tags.append(pos_tag)\n",
    "            word_id_lst =[]\n",
    "            post_lst =[]\n",
    "            bio_lst =[]\n",
    "            freq_lst =[]\n",
    "            e_freq_lst =[]\n",
    "#             pos_tag = []\n",
    "    return word_id_lsts, post_lsts, bio_lsts, freq_lsts, e_freq_lsts#, pos_tags"
   ]
  },
  {
   "cell_type": "code",
   "execution_count": null,
   "metadata": {},
   "outputs": [],
   "source": [
    "a,b,c,d,e = read_data('dev.txt')\n",
    "lines = []\n",
    "for i in b:\n",
    "    lines.append(\" \".join(i))\n",
    "\n",
    "from flair.models import SequenceTagger\n",
    "from flair.data import Sentence\n",
    "lines_w_pos = []\n",
    "tagger = SequenceTagger.load('pos')\n",
    "for i in lines:\n",
    "    sentence = Sentence(i)\n",
    "    tagger.predict(sentence)\n",
    "    lines_w_pos.append(sentence.to_tagged_string())\n",
    "\n",
    "pos = []\n",
    "for i in range(len(lines_w_pos)):\n",
    "    l = lines_w_pos[i].split()\n",
    "    m = []\n",
    "    for j in l:\n",
    "        if '<' in j:\n",
    "            m.append(j)\n",
    "    pos.append(m)"
   ]
  },
  {
   "cell_type": "code",
   "execution_count": null,
   "metadata": {},
   "outputs": [],
   "source": [
    "with open('output.txt', 'w') as f:\n",
    "    for i in range(len(a)):\n",
    "        for j in range(len(a[i])):\n",
    "            f.write(a[i][j] + \"\\t\" + b[i][j] + \"\\t\" + c[i][j] + \"\\t\" + d[i][j] + \"\\t\" + e[i][j] + \"\\t\" + pos[i][j] + \"\\n\")\n",
    "        f.write(\"\\n\")"
   ]
  },
  {
   "cell_type": "markdown",
   "metadata": {},
   "source": [
    "### Adding POS tags to test data"
   ]
  },
  {
   "cell_type": "code",
   "execution_count": null,
   "metadata": {},
   "outputs": [],
   "source": [
    "def read_lines( filename):\n",
    "    with open(filename, 'r',encoding=\"utf-8\") as fp:\n",
    "        lines = [line.strip() for line in fp]\n",
    "    return lines\n",
    "def read_data(filename):\n",
    "    \"\"\"\n",
    "    This function reads the data from .txt file.\n",
    "    :param filename: reading directory\n",
    "    :return: lists of word_ids, words, emphasis probabilities\n",
    "    \"\"\"\n",
    "    lines = read_lines(filename) + ['']\n",
    "    word_id_lst, word_id_lsts =[], []\n",
    "    post_lst, post_lsts = [], []\n",
    "    # bio_lst , bio_lsts = [], []\n",
    "    # freq_lst, freq_lsts = [], []\n",
    "    # e_freq_lst, e_freq_lsts = [], []\n",
    "#     pos_tag,pos_tags = [], []\n",
    "    \n",
    "    for line in lines:\n",
    "        if line:\n",
    "            splitted = line.split(\"\\t\")\n",
    "            word_id = splitted[0]\n",
    "            words = splitted[1]\n",
    "            # bio= splitted[2]\n",
    "            # freq = splitted[3]\n",
    "            # e_freq = splitted[4]\n",
    "#             pos = splitted[5]\n",
    "            word_id_lst.append(word_id)\n",
    "            post_lst.append(words)\n",
    "            # bio_lst.append(bio)\n",
    "            # freq_lst.append(freq)\n",
    "            # e_freq_lst.append(e_freq)\n",
    "#             pos_tag.append(pos)\n",
    "        elif post_lst:\n",
    "            word_id_lsts.append(word_id_lst)\n",
    "            post_lsts.append(post_lst)\n",
    "            # bio_lsts.append(bio_lst)\n",
    "            # freq_lsts.append(freq_lst)\n",
    "            # e_freq_lsts.append(e_freq_lst)\n",
    "#             pos_tags.append(pos_tag)\n",
    "            word_id_lst =[]\n",
    "            post_lst =[]\n",
    "            # bio_lst =[]\n",
    "            # freq_lst =[]\n",
    "            # e_freq_lst =[]\n",
    "#             pos_tag = []\n",
    "    return word_id_lsts, post_lsts#, bio_lsts, freq_lsts, e_freq_lsts#, pos_tags"
   ]
  },
  {
   "cell_type": "code",
   "execution_count": null,
   "metadata": {},
   "outputs": [],
   "source": [
    "a,b = read_data('test_data.txt')"
   ]
  },
  {
   "cell_type": "code",
   "execution_count": null,
   "metadata": {},
   "outputs": [],
   "source": [
    "lines = []\n",
    "for i in b:\n",
    "    lines.append(\" \".join(i))\n",
    "\n",
    "from flair.models import SequenceTagger\n",
    "from flair.data import Sentence\n",
    "lines_w_pos = []\n",
    "tagger = SequenceTagger.load('pos')\n",
    "for i in lines:\n",
    "    sentence = Sentence(i)\n",
    "    tagger.predict(sentence)\n",
    "    lines_w_pos.append(sentence.to_tagged_string())\n",
    "\n",
    "pos = []\n",
    "for i in range(len(lines_w_pos)):\n",
    "    l = lines_w_pos[i].split()\n",
    "    m = []\n",
    "    for j in l:\n",
    "        if '<' in j:\n",
    "            m.append(j)\n",
    "    pos.append(m)"
   ]
  },
  {
   "cell_type": "code",
   "execution_count": null,
   "metadata": {},
   "outputs": [],
   "source": [
    "with open('test_pos.txt', 'w') as f:\n",
    "    for i in range(len(a)):\n",
    "        for j in range(len(a[i])):\n",
    "            f.write(a[i][j] + \"\\t\" + b[i][j] + \"\\t\" + pos[i][j] + \"\\n\")\n",
    "        f.write(\"\\n\")"
   ]
  }
 ],
 "metadata": {
  "kernelspec": {
   "display_name": "Python 3",
   "language": "python",
   "name": "python3"
  },
  "language_info": {
   "codemirror_mode": {
    "name": "ipython",
    "version": 3
   },
   "file_extension": ".py",
   "mimetype": "text/x-python",
   "name": "python",
   "nbconvert_exporter": "python",
   "pygments_lexer": "ipython3",
   "version": "3.6.7"
  }
 },
 "nbformat": 4,
 "nbformat_minor": 2
}
