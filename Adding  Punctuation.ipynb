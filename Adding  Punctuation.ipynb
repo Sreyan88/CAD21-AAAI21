{
 "cells": [
  {
   "cell_type": "code",
   "execution_count": null,
   "metadata": {},
   "outputs": [],
   "source": [
    "#Read the data\n",
    "\n",
    "def read_lines( filename):\n",
    "    with open(filename, 'r',encoding=\"utf-8\") as fp:\n",
    "        lines = [line.strip() for line in fp]\n",
    "    return lines\n",
    "def read_data(filename):\n",
    "    \"\"\"\n",
    "    This function reads the data from .txt file.\n",
    "    :param filename: reading directory\n",
    "    :return: lists of word_ids, words, emphasis probabilities\n",
    "    \"\"\"\n",
    "    lines = read_lines(filename) + ['']\n",
    "    word_id_lst, word_id_lsts =[], []\n",
    "    post_lst, post_lsts = [], []\n",
    "    bio_lst , bio_lsts = [], []\n",
    "    freq_lst, freq_lsts = [], []\n",
    "    e_freq_lst, e_freq_lsts = [], []\n",
    "    pos_tag,pos_tags = [], []\n",
    "    \n",
    "    for line in lines:\n",
    "        if line:\n",
    "            splitted = line.split(\"\\t\")\n",
    "            word_id = splitted[0]\n",
    "            words = splitted[1]\n",
    "            bio= splitted[2]\n",
    "            freq = splitted[3]\n",
    "            e_freq = splitted[4]\n",
    "            pos = splitted[5]\n",
    "            word_id_lst.append(word_id)\n",
    "            post_lst.append(words)\n",
    "            bio_lst.append(bio)\n",
    "            freq_lst.append(freq)\n",
    "            e_freq_lst.append(e_freq)\n",
    "            pos_tag.append(pos)\n",
    "        elif post_lst:\n",
    "            word_id_lsts.append(word_id_lst)\n",
    "            post_lsts.append(post_lst)\n",
    "            bio_lsts.append(bio_lst)\n",
    "            freq_lsts.append(freq_lst)\n",
    "            e_freq_lsts.append(e_freq_lst)\n",
    "            pos_tags.append(pos_tag)\n",
    "            word_id_lst =[]\n",
    "            post_lst =[]\n",
    "            bio_lst =[]\n",
    "            freq_lst =[]\n",
    "            e_freq_lst =[]\n",
    "            pos_tag = []\n",
    "    return word_id_lsts, post_lsts, bio_lsts, freq_lsts, e_freq_lsts, pos_tags"
   ]
  },
  {
   "cell_type": "code",
   "execution_count": null,
   "metadata": {},
   "outputs": [],
   "source": [
    "a,b,c,d,e, pos = read_data('train_pos.txt')\n",
    "a1,b1,c1,d1,e1, pos1 = read_data('dev_pos.txt')"
   ]
  },
  {
   "cell_type": "code",
   "execution_count": null,
   "metadata": {},
   "outputs": [],
   "source": [
    "import string\n",
    "result  = string.punctuation + \"•\""
   ]
  },
  {
   "cell_type": "code",
   "execution_count": null,
   "metadata": {},
   "outputs": [],
   "source": [
    "with_punctuation = []\n",
    "for item in b1:\n",
    "    temp = []\n",
    "    for i in range(len(item)):\n",
    "        if item[i] in result:\n",
    "            temp.append(int(1))\n",
    "        else:\n",
    "            temp.append(int(0))\n",
    "            \n",
    "    with_punctuation.append(temp)"
   ]
  },
  {
   "cell_type": "code",
   "execution_count": null,
   "metadata": {},
   "outputs": [],
   "source": [
    "with open('final_punct_dev.txt', 'w',encoding=\"utf-8\") as f:\n",
    "    for i in range(len(a1)):\n",
    "        for j in range(len(a1[i])):\n",
    "            f.write(a1[i][j] + \"\\t\" + b1[i][j] + \"\\t\" + c1[i][j] + \"\\t\" + d1[i][j] + \"\\t\" + e1[i][j] + \"\\t\" + pos1[i][j] + \"\\t\" + str(with_punctuation[i][j]) + \"\\n\")\n",
    "            if j < (len(a1[i]) - 1):\n",
    "                if a1[i][j+1].split(\"-\")[2] != a1[i][j].split(\"-\")[2]:\n",
    "                    f.write(\"\\n\")\n",
    "        f.write(\"\\n\")    \n",
    "    #f.write(\"\\n\")"
   ]
  }
 ],
 "metadata": {
  "kernelspec": {
   "display_name": "Python 3",
   "language": "python",
   "name": "python3"
  },
  "language_info": {
   "codemirror_mode": {
    "name": "ipython",
    "version": 3
   },
   "file_extension": ".py",
   "mimetype": "text/x-python",
   "name": "python",
   "nbconvert_exporter": "python",
   "pygments_lexer": "ipython3",
   "version": "3.6.10"
  }
 },
 "nbformat": 4,
 "nbformat_minor": 2
}
