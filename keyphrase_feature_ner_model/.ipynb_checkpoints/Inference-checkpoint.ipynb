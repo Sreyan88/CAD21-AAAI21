{
 "cells": [
  {
   "cell_type": "markdown",
   "metadata": {},
   "source": [
    "## Making the dataset corpus"
   ]
  },
  {
   "cell_type": "code",
   "execution_count": null,
   "metadata": {},
   "outputs": [],
   "source": [
    "import torch\n",
    "import os\n",
    "from flair.data import Corpus\n",
    "from flair.datasets import ColumnCorpus\n",
    "from flair.embeddings import TokenEmbeddings, WordEmbeddings, StackedEmbeddings,CharacterEmbeddings, FlairEmbeddings\n",
    "from typing import List\n",
    "from flair.models import SequenceTagger\n",
    "\n",
    "columns = {1:'text'}\n",
    "\n",
    "data_folder = './data/'\n",
    "\n",
    "corpus: Corpus = ColumnCorpus(data_folder, columns,\n",
    "                              train_file='complete_train_pos.txt',\n",
    "                              test_file='test_data.txt',\n",
    "                              dev_file= 'dev.txt')\n",
    "# 2. what tag do we want to predict?\n",
    "tag_type = 'ner'\n",
    "\n",
    "tag_dictionary = corpus.make_tag_dictionary(tag_type=tag_type)"
   ]
  },
  {
   "cell_type": "markdown",
   "metadata": {},
   "source": [
    "## Inference"
   ]
  },
  {
   "cell_type": "code",
   "execution_count": null,
   "metadata": {},
   "outputs": [],
   "source": [
    "from flair.models import SequenceTagger\n",
    "from flair.data import Sentence\n",
    "\n",
    "#sentence = Sentence('Please extract information from the file')\n",
    "\n",
    "# predict NER tags\n",
    "#model.predict(sentence)\n",
    "\n",
    "#print(sentence.to_tagged_string())\n",
    "\n",
    "\n",
    "with open('valid_preds.txt', 'w',encoding=\"utf-8\") as f:\n",
    "    for sentence in corpus.dev:\n",
    "    \n",
    "        model.predict(sentence)\n",
    "\n",
    "        for token in sentence:\n",
    "            f.write(f\"{token.text}\\t{token.get_tag('ner').value}\" + \"\\n\")\n",
    "            \n",
    "        f.write(\"\\n\")"
   ]
  }
 ],
 "metadata": {
  "kernelspec": {
   "display_name": "Python 3",
   "language": "python",
   "name": "python3"
  },
  "language_info": {
   "codemirror_mode": {
    "name": "ipython",
    "version": 3
   },
   "file_extension": ".py",
   "mimetype": "text/x-python",
   "name": "python",
   "nbconvert_exporter": "python",
   "pygments_lexer": "ipython3",
   "version": "3.6.7"
  }
 },
 "nbformat": 4,
 "nbformat_minor": 2
}
