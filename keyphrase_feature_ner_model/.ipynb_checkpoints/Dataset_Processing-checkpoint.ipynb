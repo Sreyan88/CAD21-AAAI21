{
 "cells": [
  {
   "cell_type": "code",
   "execution_count": 1,
   "metadata": {},
   "outputs": [],
   "source": [
    "# Function for reading the files\n",
    "\n",
    "def read_lines( filename):\n",
    "    with open(filename, 'r',encoding=\"utf-8\") as fp:\n",
    "        lines = [line.strip() for line in fp]\n",
    "    return lines\n",
    "\n",
    "def read_data(filename):\n",
    "    \"\"\"\n",
    "    This function reads the data from .txt file.\n",
    "    :param filename: reading directory\n",
    "    :return: lists of word_ids, words, emphasis probabilities\n",
    "    \"\"\"\n",
    "    lines = read_lines(filename) + ['']\n",
    "    word_id_lst, word_id_lsts =[], []\n",
    "    post_lst, post_lsts = [], []\n",
    "    bio_lst , bio_lsts = [], []\n",
    "    freq_lst, freq_lsts = [], []\n",
    "    e_freq_lst, e_freq_lsts = [], []\n",
    "    \n",
    "    for line in lines:\n",
    "        if line:\n",
    "            splitted = line.split(\"\\t\")\n",
    "            word_id = splitted[0]\n",
    "            words = splitted[1]\n",
    "\n",
    "            word_id_lst.append(word_id)\n",
    "            post_lst.append(words)\n",
    "\n",
    "        elif post_lst:\n",
    "            word_id_lsts.append(word_id_lst)\n",
    "            post_lsts.append(post_lst)\n",
    "            word_id_lst =[]\n",
    "            post_lst =[]\n",
    "    return word_id_lsts, post_lsts"
   ]
  },
  {
   "cell_type": "markdown",
   "metadata": {},
   "source": [
    "### Reading the files"
   ]
  },
  {
   "cell_type": "code",
   "execution_count": 89,
   "metadata": {},
   "outputs": [],
   "source": [
    "inspec_train = read_data(\"Original Dataset/Inspec/train.txt\")\n",
    "inspec_test = read_data(\"Original Dataset/Inspec/test.txt\")\n",
    "inspec_valid = read_data(\"Original Dataset/Inspec/valid.txt\")\n"
   ]
  },
  {
   "cell_type": "code",
   "execution_count": 90,
   "metadata": {},
   "outputs": [],
   "source": [
    "semeval10_train = read_data(\"Original Dataset/processed_semeval-2010/train.txt\")\n",
    "semeval10_test = read_data(\"Original Dataset/processed_semeval-2010/test.txt\")"
   ]
  },
  {
   "cell_type": "code",
   "execution_count": 91,
   "metadata": {},
   "outputs": [],
   "source": [
    "semeval17_train = read_data(\"Original Dataset/SemEval-2017/train.txt\")\n",
    "semeval17_test = read_data(\"Original Dataset/SemEval-2017/test.txt\")\n",
    "semeval17_valid = read_data(\"Original Dataset/SemEval-2017/dev.txt\")"
   ]
  },
  {
   "cell_type": "code",
   "execution_count": 92,
   "metadata": {},
   "outputs": [],
   "source": [
    "train_sentences = semeval17_train[0] + semeval10_train[0] + inspec_train[0]\n",
    "train_labels = semeval17_train[1] + semeval10_train[1] + inspec_train[1]\n",
    "\n",
    "test_sentences = semeval17_test[0] + semeval10_test[0] + inspec_test[0]\n",
    "test_labels = semeval17_test[1] + semeval10_test[1] + inspec_test[1]\n",
    "\n",
    "valid_sentences = semeval17_valid[0]  + inspec_valid[0]\n",
    "valid_labels = semeval17_valid[1]  + inspec_valid[1]\n",
    "\n"
   ]
  },
  {
   "cell_type": "markdown",
   "metadata": {},
   "source": [
    "### Shuffle and save the files"
   ]
  },
  {
   "cell_type": "code",
   "execution_count": 93,
   "metadata": {},
   "outputs": [],
   "source": [
    "import random\n",
    "random.seed(98)\n",
    "random.Random(98).shuffle(train_sentences)\n",
    "random.Random(98).shuffle(train_labels)\n",
    "\n",
    "random.Random(98).shuffle(test_sentences)\n",
    "random.Random(98).shuffle(test_labels)\n",
    "\n",
    "random.Random(98).shuffle(valid_sentences)\n",
    "random.Random(98).shuffle(valid_labels)"
   ]
  },
  {
   "cell_type": "code",
   "execution_count": 94,
   "metadata": {},
   "outputs": [],
   "source": [
    "train_sentences = train_sentences + test_sentences[:450] + valid_sentences[:300]\n",
    "train_labels = train_labels + test_labels[:450] + valid_labels[:300]\n",
    "\n",
    "valid_sentences = test_sentences[450:] + valid_sentences[300:]\n",
    "valid_labels = test_labels[450:] + valid_labels[300:]"
   ]
  },
  {
   "cell_type": "code",
   "execution_count": 95,
   "metadata": {},
   "outputs": [],
   "source": [
    "for i in range(len(valid_labels)):\n",
    "    for j in range(len(valid_labels[i])):\n",
    "        if \"B\" in valid_labels[i][j]:\n",
    "            valid_labels[i][j] = \"B\"\n",
    "        elif \"I\" in valid_labels[i][j]:\n",
    "            valid_labels[i][j] = \"I\"\n",
    "            \n",
    "            \n",
    "for i in range(len(train_labels)):\n",
    "    for j in range(len(train_labels[i])):\n",
    "        if \"B\" in train_labels[i][j]:\n",
    "            train_labels[i][j] = \"B\"\n",
    "        elif \"I\" in train_labels[i][j]:\n",
    "            train_labels[i][j] = \"I\""
   ]
  },
  {
   "cell_type": "code",
   "execution_count": 97,
   "metadata": {},
   "outputs": [],
   "source": [
    "with open('train.txt', 'w',encoding=\"utf-8\") as f:\n",
    "    for i in range(len(train_sentences)):\n",
    "        for j in range(len(train_sentences[i])):\n",
    "            f.write(train_sentences[i][j] + \"\\t\" + train_labels[i][j] + \"\\n\")\n",
    "        f.write(\"\\n\")    "
   ]
  },
  {
   "cell_type": "code",
   "execution_count": 98,
   "metadata": {},
   "outputs": [],
   "source": [
    "with open('valid.txt', 'w',encoding=\"utf-8\") as f:\n",
    "    for i in range(len(valid_sentences)):\n",
    "        for j in range(len(valid_sentences[i])):\n",
    "            f.write(valid_sentences[i][j] + \"\\t\" + valid_labels[i][j] + \"\\n\")\n",
    "        f.write(\"\\n\")    "
   ]
  }
 ],
 "metadata": {
  "kernelspec": {
   "display_name": "Python 3",
   "language": "python",
   "name": "python3"
  },
  "language_info": {
   "codemirror_mode": {
    "name": "ipython",
    "version": 3
   },
   "file_extension": ".py",
   "mimetype": "text/x-python",
   "name": "python",
   "nbconvert_exporter": "python",
   "pygments_lexer": "ipython3",
   "version": "3.7.3"
  }
 },
 "nbformat": 4,
 "nbformat_minor": 4
}
